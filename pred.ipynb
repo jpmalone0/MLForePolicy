{
  "nbformat": 4,
  "nbformat_minor": 0,
  "metadata": {
    "colab": {
      "provenance": []
    },
    "kernelspec": {
      "name": "python3",
      "display_name": "Python 3"
    },
    "language_info": {
      "name": "python"
    }
  },
  "cells": [
    {
      "cell_type": "code",
      "execution_count": 1,
      "metadata": {
        "id": "NapMaMGL_1Pp"
      },
      "outputs": [],
      "source": [
        "import pandas as pd\n",
        "import numpy as np\n",
        "import matplotlib.pyplot as plt\n",
        "\n",
        "import torch\n",
        "import torch.nn as nn"
      ]
    },
    {
      "cell_type": "code",
      "source": [
        "foreign_investment = pd.read_csv('FORINV.csv')\n",
        "gini_index = pd.read_csv('GINI.csv')\n",
        "human_capital_index = pd.read_csv('HCI.csv')\n",
        "inflation = pd.read_csv('INFLATION.csv')\n",
        "interest_rates = pd.read_csv('INTRATE.csv')\n",
        "highest_income_tax_bracket = pd.read_csv('ITAX.csv')\n",
        "poverty_rate = pd.read_csv('POVERTY.csv')\n",
        "real_consumer_spending = pd.read_csv('RCONSPEND.csv')\n",
        "real_GDP = pd.read_csv('RGDP.csv')\n",
        "real_median_weekly_earnings = pd.read_csv('RMEDEARN.csv')\n",
        "real_med_household_income = pd.read_csv('RMEDHOUINC.csv')\n",
        "unemployment_rate = pd.read_csv('UNRATE.csv')"
      ],
      "metadata": {
        "id": "eEWIq1HZ_5X6"
      },
      "execution_count": 4,
      "outputs": []
    },
    {
      "cell_type": "code",
      "source": [],
      "metadata": {
        "id": "wrEyT8U9DKGX"
      },
      "execution_count": null,
      "outputs": []
    }
  ]
}