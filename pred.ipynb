{
 "cells": [
  {
   "cell_type": "code",
   "execution_count": null,
   "metadata": {
    "id": "NapMaMGL_1Pp"
   },
   "outputs": [],
   "source": [
    "import torch\n",
    "import torch.nn as nn\n",
    "import torch.nn.functional as F\n",
    "import torch.optim as optim\n",
    "from torch.utils.data import DataLoader\n",
    "from functools import reduce\n",
    "from sklearn.model_selection import train_test_split\n",
    "import pandas as pd\n",
    "from sklearn.preprocessing import StandardScaler\n",
    "from sklearn.metrics import mean_absolute_error, r2_score\n",
    "import matplotlib.pyplot as plt\n",
    "\n"
   ]
  },
  {
   "cell_type": "code",
   "execution_count": null,
   "metadata": {
    "id": "eEWIq1HZ_5X6"
   },
   "outputs": [],
   "source": [
    "\n",
    "START_YEAR = 1963\n",
    "END_YEAR = 2023\n",
    "\n",
    "dataframes = [\n",
    "    # pd.read_csv('Features/FEDDEBT.csv'),\n",
    "    # pd.read_csv('Features/FORINV.csv'),\n",
    "    # pd.read_csv('Features/GINI.csv'),\n",
    "    # pd.read_csv('Features/HCI.csv'),\n",
    "    # pd.read_csv('Features/INFLATION.csv'),\n",
    "    # pd.read_csv('Features/INTRATE.csv'),\n",
    "    # pd.read_csv('Features/ITAX.csv'),\n",
    "    # pd.read_csv('Features/PCNTWGGRWTH.csv'),\n",
    "    # pd.read_csv('Features/RCONSPEND.csv'),\n",
    "    # pd.read_csv('Features/RGDP.csv'),\n",
    "    # pd.read_csv('Features/RLESTMRKTVAL.csv'),\n",
    "    # pd.read_csv('Features/RMEDEARN.csv'),\n",
    "    # pd.read_csv('Features/RMEDHOUINC.csv'),\n",
    "    # pd.read_csv('Features/UNRATE.csv')\n",
    "    pd.read_csv('FEDDEBT.csv'),\n",
    "    pd.read_csv('FORINV.csv'),\n",
    "    pd.read_csv('GINI.csv'),\n",
    "    pd.read_csv('HCI.csv'),\n",
    "    pd.read_csv('INFLATION.csv'),\n",
    "    pd.read_csv('INTRATE.csv'),\n",
    "    pd.read_csv('ITAX.csv'),\n",
    "    pd.read_csv('PCNTWGGRWTH.csv'),\n",
    "    pd.read_csv('RCONSPEND.csv'),\n",
    "    pd.read_csv('RGDP.csv'),\n",
    "    pd.read_csv('RLESTMRKTVAL.csv'),\n",
    "    pd.read_csv('RMEDEARN.csv'),\n",
    "    pd.read_csv('RMEDHOUINC.csv'),\n",
    "    pd.read_csv('UNRATE.csv')\n",
    "]\n",
    "\n",
    "merged_df = reduce(lambda left, right: pd.merge(left, right, on='DATE', how='left'), dataframes)\n",
    "new_columns = ['DATE', 'FEDERAL DEBT', 'FOREIGN INVESTMENT', 'GINI', 'HUMAN CAPITAL INDEX', 'INFLATION', 'INTEREST RATE', 'HIGHEST INCOME TAX', 'PERCENT WAGE GROWTH', 'RCONSPEND', 'REAL GDP', 'REAL ESTATE MARKET VAL', 'RMEDEARN', 'RMEDHOUINC', 'UNEMPLOYMENT RATE']\n",
    "merged_df.columns = new_columns\n",
    "\n",
    "# Replace xxxx-xx-xx Date format to Year; Only keep one row per year\n",
    "merged_df = merged_df[merged_df['GINI'].notna()]\n",
    "merged_df['DATE'] = pd.to_datetime(merged_df['DATE'])\n",
    "merged_df['YEAR'] = merged_df['DATE'].dt.year\n",
    "merged_df = merged_df.drop(columns = ['DATE'])\n",
    "merged_df = merged_df.drop_duplicates(subset='YEAR', keep='first')\n",
    "\n",
    "# Interpolate missing values\n",
    "merged_df = merged_df.interpolate(method='bfill', limit_direction='backward')\n",
    "merged_df = merged_df.interpolate(method='ffill', limit_direction='forward')\n",
    "\n",
    "merged_df.to_csv('merged_df.csv', index=False)"
   ]
  },
  {
   "cell_type": "code",
   "execution_count": null,
   "metadata": {
    "colab": {
     "base_uri": "https://localhost:8080/"
    },
    "id": "wrEyT8U9DKGX",
    "outputId": "c25b6aa5-b1dc-4c49-c81f-b8bda1b0054d"
   },
   "outputs": [],
   "source": [
    "data = pd.read_csv('merged_df.csv')\n",
    "\n",
    "features = data.drop(['YEAR', 'GINI'], axis=1)  # Select features\n",
    "target = data['GINI']  # Select Label\n",
    "\n",
    "input_size = len(new_columns) - 2  # -2 from Year and Gini columns\n",
    "output_size = 1\n",
    "learning_rate = 0.002\n",
    "batch_size = 64\n",
    "num_epochs = 20000\n",
    "\n",
    "X_train, X_test, y_train, y_test = train_test_split(features, target, test_size=0.2, random_state=42)\n",
    "\n",
    "scaler = StandardScaler()\n",
    "X_train = scaler.fit_transform(X_train)\n",
    "X_test = scaler.transform(X_test)\n",
    "\n",
    "X_train_tensor = torch.tensor(X_train, dtype=torch.float32)\n",
    "y_train_tensor = torch.tensor(y_train.values, dtype=torch.float32)\n",
    "X_test_tensor = torch.tensor(X_test, dtype=torch.float32)\n",
    "y_test_tensor = torch.tensor(y_test.values, dtype=torch.float32)\n",
    "\n",
    "train_dataset = torch.utils.data.TensorDataset(X_train_tensor, y_train_tensor)\n",
    "test_dataset = torch.utils.data.TensorDataset(X_test_tensor, y_test_tensor)\n",
    "train_loader = DataLoader(dataset=train_dataset, batch_size=batch_size, shuffle=True)\n",
    "test_loader = DataLoader(dataset=test_dataset, batch_size=batch_size, shuffle=False)\n",
    "\n",
    "hidden_layer_size = 64\n",
    "class RegressionNN(nn.Module):\n",
    "    def __init__(self, input_size):\n",
    "        super(RegressionNN, self).__init__()\n",
    "        self.fc1 = nn.Linear(input_size, hidden_layer_size)\n",
    "        self.fc2 = nn.Linear(hidden_layer_size, 1)\n",
    "\n",
    "    def forward(self, x):\n",
    "        x = F.relu(self.fc1(x))\n",
    "        x = self.fc2(x)\n",
    "        return x\n",
    "\n",
    "\n",
    "device = torch.device(\"cuda\" if torch.cuda.is_available() else \"cpu\")\n",
    "\n",
    "model = RegressionNN(input_size=input_size).to(device)\n",
    "criterion = nn.MSELoss()\n",
    "optimizer = optim.Adam(model.parameters(), lr=learning_rate)\n",
    "\n",
    "# Training\n",
    "losses = []\n",
    "best_loss = float('inf')  # Initialize with a large value\n",
    "patience = 3  # Set the patience parameter\n",
    "\n",
    "for epoch in range(num_epochs):\n",
    "    model.train()\n",
    "    total_loss = 0\n",
    "\n",
    "    for batch_idx, (data, targets) in enumerate(train_loader):\n",
    "        data = data.to(device=device)\n",
    "        targets = targets.to(device=device)\n",
    "\n",
    "        scores = model(data)\n",
    "        loss = criterion(scores, targets.view(-1, 1))  # Reshape targets for MSELoss\n",
    "\n",
    "        optimizer.zero_grad()\n",
    "        loss.backward()\n",
    "        optimizer.step()\n",
    "\n",
    "        total_loss += loss.item()\n",
    "\n",
    "    average_loss = total_loss / len(train_loader)\n",
    "    losses.append(average_loss)\n",
    "\n",
    "    if (epoch + 1) % 500 == 0:\n",
    "        print(f'Epoch [{epoch + 1}/{num_epochs}], Loss: {average_loss:.4f}')\n",
    "\n",
    "    # Early stopping logic\n",
    "    if average_loss < best_loss:\n",
    "        best_loss = average_loss\n",
    "        epochs_no_improve = 0\n",
    "    else:\n",
    "        epochs_no_improve += 1\n",
    "\n",
    "    if epochs_no_improve == patience:\n",
    "        print(f'Early stopping at epoch {epoch + 1} with best loss: {best_loss:.4f}')\n",
    "        break\n",
    "\n",
    "# Evaluate on test data\n",
    "\n",
    "model.eval()\n",
    "predictions = []\n",
    "total_loss = 0\n",
    "\n",
    "with torch.no_grad():\n",
    "    for data, targets in test_loader:\n",
    "        data = data.to(device=device)\n",
    "        targets = targets.to(device=device)\n",
    "\n",
    "        scores = model(data)\n",
    "        loss = criterion(scores, targets.view(-1, 1))\n",
    "        predictions.extend(scores.cpu().numpy())\n",
    "\n",
    "        total_loss += loss.item()\n",
    "\n",
    "average_loss = total_loss / len(test_loader)\n",
    "print(f'Test Loss: {average_loss:.4f}')"
   ]
  },
  {
   "cell_type": "code",
   "execution_count": null,
   "metadata": {
    "colab": {
     "base_uri": "https://localhost:8080/"
    },
    "id": "Kc51uCDBHNFQ",
    "outputId": "5d6f144a-ecde-4abf-d942-6357674b8958"
   },
   "outputs": [],
   "source": [
    "# Regression metrics\n",
    "mae = mean_absolute_error(y_test.values, predictions)\n",
    "# mse = mean_squared_error(y_test.values, predictions)\n",
    "r2 = r2_score(y_test.values, predictions)\n",
    "\n",
    "print(f'Mean Absolute Error (MAE): {mae:.4f}')\n",
    "print(f'Mean Squared Error (MSE): {mse:.4f}')\n",
    "print(f'R-squared (R2): {r2:.4f}')"
   ]
  },
  {
   "cell_type": "code",
   "execution_count": null,
   "metadata": {
    "colab": {
     "base_uri": "https://localhost:8080/",
     "height": 472
    },
    "id": "zC9pWLsf7CCj",
    "outputId": "ea803a20-775a-4f6e-b1de-7da66ca5b649"
   },
   "outputs": [],
   "source": [
    "# Plotting\n",
    "plt.plot(range(1, epoch + 2), losses, label='Training Loss')\n",
    "plt.xlabel('Epoch')\n",
    "plt.ylabel('Loss')\n",
    "plt.title('Training Loss Over Epochs')\n",
    "plt.legend()\n",
    "plt.show()"
   ]
  },
  {
   "cell_type": "code",
   "execution_count": null,
   "metadata": {
    "colab": {
     "base_uri": "https://localhost:8080/",
     "height": 472
    },
    "id": "LS5fJCwMIUwy",
    "outputId": "28c41694-b45f-4f80-c4f3-0aff1cff89f6"
   },
   "outputs": [],
   "source": [
    "\n",
    "plt.scatter(y_test, predictions, alpha=1)\n",
    "plt.xlabel('Actual GINI')\n",
    "plt.ylabel('Predicted GINI')\n",
    "plt.title('Actual vs. Predicted GINI')\n",
    "plt.show()"
   ]
  },
  {
   "cell_type": "code",
   "execution_count": null,
   "metadata": {
    "colab": {
     "base_uri": "https://localhost:8080/",
     "height": 544
    },
    "id": "c9LUUertDyeu",
    "outputId": "f88a250e-f8f7-4f4d-e758-ed83a9c82bc7"
   },
   "outputs": [],
   "source": [
    "# Feature Importance Visualization:\n",
    "weights_fc1 = model.fc1.weight.detach().numpy()\n",
    "\n",
    "# Compute mean importance across hidden units for each feature\n",
    "feature_importance_mean = weights_fc1.mean(axis=0)\n",
    "\n",
    "plt.figure(figsize=(12, 6))\n",
    "\n",
    "plt.bar(range(len(feature_importance_mean)), feature_importance_mean)\n",
    "plt.xlabel('Features')\n",
    "plt.ylabel('Mean Importance Across Hidden Units')\n",
    "plt.title('Mean Feature Importance Across Hidden Units')\n",
    "plt.xticks(range(len(features.columns)), features.columns, rotation=45, ha='right')\n",
    "\n",
    "plt.tight_layout()\n",
    "plt.show()"
   ]
  },
  {
   "cell_type": "code",
   "execution_count": null,
   "metadata": {
    "colab": {
     "base_uri": "https://localhost:8080/",
     "height": 472
    },
    "id": "hXs57d-BIbW1",
    "outputId": "affab803-b9ed-4fa7-f94a-f6e3189a038e"
   },
   "outputs": [],
   "source": [
    "# Plotting time series data\n",
    "\n",
    "y_test_sorted = y_test.sort_index()\n",
    "\n",
    "plt.plot(y_test_sorted.index+START_YEAR, y_test, label='Actual GINI')\n",
    "plt.plot(y_test_sorted.index+START_YEAR, predictions, label='Predicted GINI')\n",
    "plt.xlabel('Year')\n",
    "plt.ylabel('GINI Index (0 = Perfect Wealth Equality)')\n",
    "plt.ylim(30,50)\n",
    "plt.title('Actual vs. Predicted GINI Over Time')\n",
    "plt.legend()\n",
    "plt.show()"
   ]
  },
  {
   "cell_type": "code",
   "execution_count": null,
   "metadata": {
    "colab": {
     "base_uri": "https://localhost:8080/",
     "height": 1000
    },
    "id": "10mt6lDEXdEY",
    "outputId": "6b7f7804-214d-43de-97c3-b6dd9ca45e4b"
   },
   "outputs": [],
   "source": [
    "#Interesting Feature Plots\n",
    "\n",
    "# plt.plot(merged_df['YEAR'],merged_df['PERCENT WAGE GROWTH'])\n",
    "# plt.xlabel('Year')\n",
    "# plt.ylabel('Percent Wage Growth')\n",
    "# plt.title('Percent Wage Growth Over Time')\n",
    "# plt.show()\n",
    "\n",
    "plt.plot(merged_df['YEAR'],merged_df['HUMAN CAPITAL INDEX'])\n",
    "plt.xlabel('Year')\n",
    "plt.ylabel('HCI')\n",
    "plt.title('Human Capital Index Over Time')\n",
    "plt.show()\n",
    "\n",
    "plt.plot(merged_df['YEAR'],merged_df['HIGHEST INCOME TAX'])\n",
    "plt.xlabel('Year')\n",
    "plt.ylabel('Percent')\n",
    "plt.title('Highest Income Tax Bracket Percentage Over Time')\n",
    "plt.show()\n",
    "\n",
    "plt.plot(merged_df['YEAR'],merged_df['RCONSPEND'])\n",
    "plt.xlabel('Year')\n",
    "plt.ylabel('Consumer Spending (Billions of Dollars)')\n",
    "plt.title('Real Consumer Spending Over Time (Data ')\n",
    "plt.show()\n"
   ]
  },
  {
   "cell_type": "code",
   "execution_count": null,
   "metadata": {
    "id": "e-BmX_y-DU8N"
   },
   "outputs": [],
   "source": []
  }
 ],
 "metadata": {
  "colab": {
   "provenance": []
  },
  "kernelspec": {
   "display_name": "Python 3",
   "language": "python",
   "name": "python3"
  },
  "language_info": {
   "codemirror_mode": {
    "name": "ipython",
    "version": 3
   },
   "file_extension": ".py",
   "mimetype": "text/x-python",
   "name": "python",
   "nbconvert_exporter": "python",
   "pygments_lexer": "ipython3",
   "version": "3.9.0"
  }
 },
 "nbformat": 4,
 "nbformat_minor": 0
}
